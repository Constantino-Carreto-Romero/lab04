{
 "cells": [
  {
   "cell_type": "markdown",
   "metadata": {},
   "source": [
    "## Lab 4 -- Web scraping and the Twitter API\n",
    "\n",
    "So far in this course we have dealt with data which has been collected by someone else and has appeared in a neat, nice format. Unfortunately a good deal of data doesn't appear to us in a clean format. we have to wrestle with the data so that it's in a nice format for us to analyze. This is where web scraping and APIs come into play."
   ]
  },
  {
   "cell_type": "markdown",
   "metadata": {},
   "source": [
    "*Web scraping* is the process of accessing unstructured or semi-structured data which is on the web and turning it into data we can use, i.e. a structured dataset.\n",
    "\n",
    "In this course we are going to focus on two types of web scraping: screen scraping and APIs (or Application Programming Interfaces). Screen scraping is a technique for extracting data from the source code of the website. APIs, on the other hand, are a service which is provided by a company or organization with the intent of delivering data to some end user."
   ]
  },
  {
   "cell_type": "markdown",
   "metadata": {},
   "source": [
    "Because bandwidth is expensive and making automated hits to a website may \"[clog up](https://en.wikipedia.org/wiki/Denial-of-service_attack) the [tubes](https://www.youtube.com/watch?v=f99PcP0aFNE)\", we need to have to some rules for accessing sites and APIs. If you're interested in a particular site, check to see if an API is available. For instance, we could collect Twitter data by going to twitter.com and saving the website to a file. Or we could use [Twitter's API](dev.twitter.com) for collecting tweets. Second, try to limit your bandwidth usage. It's helpful to do this by only accessing the site once, then saving the HTML to disk. Lastly, pay attention to rate limits and terms of service. We'll discuss much of this below."
   ]
  },
  {
   "cell_type": "markdown",
   "metadata": {},
   "source": [
    "## Screen scraping\n",
    "\n",
    "The basic language which has underlied the web for the past few decades is HTML, or HyperText Markup Language. Several of you in this course have worked with HTML, so this shouldn't be new to you. Supplementing HTML more recently is CSS, or Cascading Style Sheets. There's also JavaScript, but we will not talk much about that today."
   ]
  },
  {
   "cell_type": "markdown",
   "metadata": {},
   "source": [
    "The first thing about screen scraping we need to know the structure of the web page we want to scrape. All web pages follow a basic structure of *elements*. Elements are *nested* within each other, which means that elements can fit inside of other elements. "
   ]
  },
  {
   "cell_type": "markdown",
   "metadata": {},
   "source": [
    "![](img/page_structure_example.jpg)"
   ]
  },
  {
   "cell_type": "markdown",
   "metadata": {},
   "source": [
    "Above image from [this site](https://alleasytricks.files.wordpress.com/2015/02/page_structure_example.jpg)."
   ]
  },
  {
   "cell_type": "markdown",
   "metadata": {},
   "source": [
    "In the example above, the element at the top (also called the *root* element) is <code>html</code>. Within that, there's a number of other elemnts which contain information which might be helpful for us. Usually, when we are screen scraping for social data, we want to get some text elements. In the image above, those elements with text data are <code>title</code>, <code>h1</code>, and the two <code>p</code> elements. Those are all HTML *tags*. But we can also access elements by CSS attributes. Most importantly, we can access elements by the CSS attributes <code>class</code> and <code>id</code>."
   ]
  },
  {
   "cell_type": "markdown",
   "metadata": {},
   "source": [
    "From here, let's split the kinds of task of screen scraping into two types of tasks depending on our data format: table format and unstructured format."
   ]
  },
  {
   "cell_type": "markdown",
   "metadata": {},
   "source": [
    "### Screen scraping in table format\n",
    "\n",
    "Lots of the data which we want to collect is already in format which looks like a Data Frame. Tables are a common part of the structure of many websites, so there's a set of common methods for collecting them."
   ]
  },
  {
   "cell_type": "markdown",
   "metadata": {},
   "source": [
    "Let's take a look at a website which has many tables: Wikipedia. In particular, let's look at the Wikipedia site for the [List of best selling albums of all time](https://en.wikipedia.org/wiki/List_of_best-selling_albums). The tables on this site looks like this."
   ]
  },
  {
   "cell_type": "markdown",
   "metadata": {},
   "source": [
    "![](img/albums.png)"
   ]
  },
  {
   "cell_type": "markdown",
   "metadata": {},
   "source": [
    "There's a number of columns which would be relevant for quantitative analyses, including such as certified copies and claimed sales. We also have a number of categorical rows -- artist, genre, and year."
   ]
  },
  {
   "cell_type": "markdown",
   "metadata": {},
   "source": [
    "Once we've identified our table, we need to find a way to collect it. We can do this by identifying which HTML tags and CSS attributes identify this table. To do this, we can use the \"Inspect\" or \"View Source\" feature in our web browsers. On my computer (my Mac, using Google Chrome), I have an \"Inspect\" option. This will probably look different on the lab computers and also depend on the browser you're using."
   ]
  },
  {
   "cell_type": "markdown",
   "metadata": {},
   "source": [
    "![](img/chrome-inspect.png)"
   ]
  },
  {
   "cell_type": "markdown",
   "metadata": {},
   "source": [
    "Once you click \"Inspect\" or \"View Source\", you'll get something that looks like the screenshot below. Tools like the Chrome inspect are nice because they allow you to see the HTML element and then it also visually selects the element on the screen. "
   ]
  },
  {
   "cell_type": "markdown",
   "metadata": {},
   "source": [
    "![](img/inspect-selected.png)"
   ]
  },
  {
   "cell_type": "markdown",
   "metadata": {},
   "source": [
    "It will be useful here to highlight the HTML elements we are looking for in the table, and what CSS attributes we use."
   ]
  },
  {
   "cell_type": "markdown",
   "metadata": {},
   "source": [
    "For any HTML table, there are several necessary parts. The <code>&lt;table&gt;</code> tag declares that there's going to be a table here. The <code>&lt;tr&gt;</code> tag declares that there is going to be a row. The <code>&lt;th&gt;</code> and <code>&lt;td&gt;</code> tags are similar: they both denote that this is a cell of the table. However, the <code>&lt;th&gt;</code> tag is a header cell while <code>&lt;td&gt;</code> is any other cell in the table.\n",
    "\n",
    "    <table>\n",
    "        <tr>\n",
    "            <th>Header1</th><th>Header2</th>\n",
    "        </tr>\n",
    "        <tr>\n",
    "            <td>Data1</td><td>Data2</td>\n",
    "        </tr>\n",
    "        <!-- ... more rows here ... -->\n",
    "    </table>\n",
    "\n",
    "We also note that there's two CSS attributes of importance above: <code>class</code> and <code>id</code>. An HTML element can take on an virtually unlimited number of classes, while an HTML element can only have one ID and it should unique to the webpage."
   ]
  },
  {
   "cell_type": "markdown",
   "metadata": {},
   "source": [
    "In this case, the Wikipedia table here has no <code>id</code>, but it has three classes: <code>wikitable, sortable,</code> and <code>jquery-tablesorter</code>."
   ]
  },
  {
   "cell_type": "markdown",
   "metadata": {},
   "source": [
    "Okay, now that we have gone through the HTML, we need to actually collect the data.\n",
    "\n",
    "First, we need to import a few important modules. <code>urllib</code> is a module which allows us to make a request of a webpage. <code>bs4</code> and the BeautifulSoup object let us navigate the HTML element tree."
   ]
  },
  {
   "cell_type": "code",
   "execution_count": 2,
   "metadata": {
    "collapsed": true
   },
   "outputs": [],
   "source": [
    "import urllib.request\n",
    "from bs4 import BeautifulSoup"
   ]
  },
  {
   "cell_type": "markdown",
   "metadata": {},
   "source": [
    "After importing, we need to request the URL, read all the data from it, then parse it with BeautifulSoup."
   ]
  },
  {
   "cell_type": "code",
   "execution_count": 16,
   "metadata": {
    "collapsed": true
   },
   "outputs": [],
   "source": [
    "## Request the URL\n",
    "url = \"https://en.wikipedia.org/wiki/List_of_best-selling_albums\"\n",
    "res = urllib.request.urlopen(url)"
   ]
  },
  {
   "cell_type": "code",
   "execution_count": 17,
   "metadata": {
    "collapsed": true
   },
   "outputs": [],
   "source": [
    "## Read the data into from the url as a string\n",
    "html = res.read()"
   ]
  },
  {
   "cell_type": "code",
   "execution_count": 18,
   "metadata": {
    "collapsed": true
   },
   "outputs": [],
   "source": [
    "## parse with BeautifulSoup\n",
    "bs = BeautifulSoup(html, \"html.parser\")"
   ]
  },
  {
   "cell_type": "markdown",
   "metadata": {},
   "source": [
    "After we get the webpage into BeautifulSoup, we can start accessing HTML elements by HTML tag and by CSS. The two main methods we will use for that are <code>find_all</code> and <code>find</code>. <code>find_all</code> will find all elements which match our criteria and return them as a list, while <code>find</code> will only find the first."
   ]
  },
  {
   "cell_type": "markdown",
   "metadata": {},
   "source": [
    "Let's say we want to get the first table on the page, which reports albums which have sold 40 million or more copies. First, let's get all the tables on the page. We can do this with `find_all`."
   ]
  },
  {
   "cell_type": "code",
   "execution_count": 32,
   "metadata": {
    "collapsed": true
   },
   "outputs": [],
   "source": [
    "tables = bs.find_all('table')"
   ]
  },
  {
   "cell_type": "markdown",
   "metadata": {},
   "source": [
    "Now we have a list of tables in `tables`. Let's see what's in the first element."
   ]
  },
  {
   "cell_type": "code",
   "execution_count": 33,
   "metadata": {
    "collapsed": true
   },
   "outputs": [
    {
     "data": {
      "text/plain": [
       "<table class=\"wikitable\" style=\"font-size:85%; text-align:center;\">\n",
       "<tr>\n",
       "<th colspan=\"2\">Colors</th>\n",
       "</tr>\n",
       "<tr>\n",
       "<td style=\"background:#FFFFFF; width:20px;\"></td>\n",
       "<td>Studio albums</td>\n",
       "</tr>\n",
       "<tr>\n",
       "<td style=\"background:#FFFAE6; width:20px;\"></td>\n",
       "<td>Greatest hits and compilations</td>\n",
       "</tr>\n",
       "<tr>\n",
       "<td style=\"background:#E6F2FF; width:20px;\"></td>\n",
       "<td>Soundtracks</td>\n",
       "</tr>\n",
       "<tr>\n",
       "<td style=\"background:#FBE9F7; width:20px;\"></td>\n",
       "<td>Live albums</td>\n",
       "</tr>\n",
       "</table>"
      ]
     },
     "execution_count": 33,
     "metadata": {},
     "output_type": "execute_result"
    }
   ],
   "source": [
    "tables[0]"
   ]
  },
  {
   "cell_type": "markdown",
   "metadata": {},
   "source": [
    "It looks like we got the \"Legend\" table which gives color codes to the rest of the page. Let's check the second element now."
   ]
  },
  {
   "cell_type": "code",
   "execution_count": 47,
   "metadata": {},
   "outputs": [
    {
     "data": {
      "text/plain": [
       "<table class=\"wikitable sortable\" style=\"width:100%; text-align: center\">\n",
       "<tr style=\"background:#e8e8e8;\">\n",
       "<th scope=\"col\">Artist</th>\n",
       "<th scope=\"col\">Album</th>\n",
       "<th scope=\"col\">Released</th>\n",
       "<th scope=\"col\">Genre</th>\n",
       "<th scope=\"col\"><a href=\"/wiki/Music_recording_sales_certification\" title=\"Music recording sales certification\">Total certified copies</a><br/>\n",
       "<small><span class=\"nowrap\">(<a href=\"/wiki/List_of_music_recording_certifications\" title=\"List of music recording certifications\">from available markets</a>)</span></small>*</th>\n",
       "<th scope=\"col\">Claimed sales*</th>\n",
       "<th class=\"unsortable\" scope=\"col\">Ref(s)</th>\n",
       "</tr>\n",
       "<tr style=\"background:#FFFFFF;\">\n",
       "<td><a href=\"/wiki/Michael_Jackson\" title=\"Michael Jackson\">Michael Jackson</a></td>\n",
       "<td><i><a href=\"/wiki/Thriller_(Michael_Jackson_album)\" title=\"Thriller (Michael Jackson album)\">Thriller</a></i></td>\n",
       "<td>1982</td>\n",
       "<td><a href=\"/wiki/Pop_music\" title=\"Pop music\">Pop</a>, <a href=\"/wiki/Rock_music\" title=\"Rock music\">Rock</a>, <a href=\"/wiki/Contemporary_R%26B\" title=\"Contemporary R&amp;B\">R&amp;B</a></td>\n",
       "<td><span class=\"sortkey\" style=\"display:none\">7001463190000000000♠</span>\n",
       "<div class=\"mw-collapsible mw-collapsed\" style=\"box-sizing:border-box;width:100%;font-size:95%;padding:4px;border:none;\">\n",
       "<div style=\"font-size:100%;line-height:1.6;font-weight:bold;background:transparent;text-align:center;;\">47.3</div>\n",
       "<div class=\"mw-collapsible-content\" style=\"background:transparent;text-align:left;;\">\n",
       "<ul>\n",
       "<li><a href=\"/wiki/Recording_Industry_Association_of_America\" title=\"Recording Industry Association of America\">US</a>: 33 million<sup class=\"reference\" id=\"cite_ref-RIAA_Certification_Database_5-0\"><a href=\"#cite_note-RIAA_Certification_Database-5\">[4]</a></sup></li>\n",
       "<li><a href=\"/wiki/Recording_Industry_Association_of_Japan\" title=\"Recording Industry Association of Japan\">JPN</a>: 100,000<sup class=\"reference\" id=\"cite_ref-The_Record_6-0\"><a href=\"#cite_note-The_Record-6\">[5]</a></sup></li>\n",
       "<li><a href=\"/wiki/British_Phonographic_Industry\" title=\"British Phonographic Industry\">UK</a>: 4.2 million<sup class=\"reference\" id=\"cite_ref-BPI_certifications_7-0\"><a href=\"#cite_note-BPI_certifications-7\">[6]</a></sup></li>\n",
       "<li><a href=\"/wiki/Bundesverband_Musikindustrie\" title=\"Bundesverband Musikindustrie\">GER</a>: 1.5 million<sup class=\"reference\" id=\"cite_ref-German_Certification_Database_8-0\"><a href=\"#cite_note-German_Certification_Database-8\">[7]</a></sup></li>\n",
       "<li><a href=\"/wiki/Syndicat_National_de_l%27%C3%89dition_Phonographique\" title=\"Syndicat National de l'Édition Phonographique\">FRA</a>: 1 million<sup class=\"reference\" id=\"cite_ref-InfoDisc_Les_Certifications_depuis_1973_(albums)_9-0\"><a href=\"#cite_note-InfoDisc_Les_Certifications_depuis_1973_(albums)-9\">[8]</a></sup></li>\n",
       "<li><a href=\"/wiki/Music_Canada\" title=\"Music Canada\">CAN</a>: 2 million<sup class=\"reference\" id=\"cite_ref-Canada_Music_Certification_Database_10-0\"><a href=\"#cite_note-Canada_Music_Certification_Database-10\">[9]</a></sup></li>\n",
       "<li><a href=\"/wiki/Australian_Recording_Industry_Association\" title=\"Australian Recording Industry Association\">AUS</a>: 1.12 million<sup class=\"reference\" id=\"cite_ref-Australian_Certifications_11-0\"><a href=\"#cite_note-Australian_Certifications-11\">[10]</a></sup></li>\n",
       "<li><a href=\"/wiki/Asociaci%C3%B3n_Mexicana_de_Productores_de_Fonogramas_y_Videogramas\" title=\"Asociación Mexicana de Productores de Fonogramas y Videogramas\">MEX</a>: 1.6 million<sup class=\"reference\" id=\"cite_ref-AMPROFON_Certification_Database_12-0\"><a href=\"#cite_note-AMPROFON_Certification_Database-12\">[11]</a></sup></li>\n",
       "<li><a href=\"/wiki/NVPI\" title=\"NVPI\">NLD</a>: 800,000<sup class=\"reference\" id=\"cite_ref-Dutch_Certifications_13-0\"><a href=\"#cite_note-Dutch_Certifications-13\">[12]</a></sup></li>\n",
       "<li><a class=\"mw-redirect\" href=\"/wiki/Federation_of_the_Italian_Music_Industry\" title=\"Federation of the Italian Music Industry\">ITA</a>: 100,000<sup class=\"reference\" id=\"cite_ref-FIMI_Certification_Database_14-0\"><a href=\"#cite_note-FIMI_Certification_Database-14\">[13]</a></sup></li>\n",
       "<li><a href=\"/wiki/International_Federation_of_the_Phonographic_Industry\" title=\"International Federation of the Phonographic Industry\">SWE</a>: 400,000<sup class=\"reference\" id=\"cite_ref-Swedish_Certifications_15-0\"><a href=\"#cite_note-Swedish_Certifications-15\">[14]</a></sup></li>\n",
       "<li><a href=\"/wiki/Argentine_Chamber_of_Phonograms_and_Videograms_Producers\" title=\"Argentine Chamber of Phonograms and Videograms Producers\">ARG</a>: 500,000<sup class=\"reference\" id=\"cite_ref-CAPIF_Diamond_awards_16-0\"><a href=\"#cite_note-CAPIF_Diamond_awards-16\">[15]</a></sup></li>\n",
       "<li><a href=\"/wiki/International_Federation_of_the_Phonographic_Industry\" title=\"International Federation of the Phonographic Industry\">SWI</a>: 300,000<sup class=\"reference\" id=\"cite_ref-Swiss_Certification_Database_17-0\"><a href=\"#cite_note-Swiss_Certification_Database-17\">[16]</a></sup></li>\n",
       "<li><a href=\"/wiki/International_Federation_of_the_Phonographic_Industry\" title=\"International Federation of the Phonographic Industry\">AUT</a>: 400,000<sup class=\"reference\" id=\"cite_ref-Austrian_Certifications_18-0\"><a href=\"#cite_note-Austrian_Certifications-18\">[17]</a></sup></li>\n",
       "<li><a href=\"/wiki/Musiikkituottajat_%E2%80%93_IFPI_Finland\" title=\"Musiikkituottajat – IFPI Finland\">FIN</a>: 119,061<sup class=\"reference\" id=\"cite_ref-Finnish_Certifications_Database_19-0\"><a href=\"#cite_note-Finnish_Certifications_Database-19\">[18]</a></sup></li>\n",
       "<li><a class=\"mw-redirect\" href=\"/wiki/Recording_Industry_Association_of_New_Zealand\" title=\"Recording Industry Association of New Zealand\">NZ</a>: 180,000<sup class=\"reference\" id=\"cite_ref-New_Zealand_Certifications_20-0\"><a href=\"#cite_note-New_Zealand_Certifications-20\">[19]</a></sup><sup class=\"reference\" id=\"cite_ref-NZ_Album_Certifications_2007-July_2011_21-0\"><a href=\"#cite_note-NZ_Album_Certifications_2007-July_2011-21\">[20]</a></sup></li>\n",
       "<li><a class=\"mw-redirect\" href=\"/wiki/IFPI\" title=\"IFPI\">HKG</a>: 15,000<sup class=\"reference\" id=\"cite_ref-Hong_Kong_Gold_Disc_Award_22-0\"><a href=\"#cite_note-Hong_Kong_Gold_Disc_Award-22\">[21]</a></sup></li>\n",
       "</ul>\n",
       "</div>\n",
       "</div>\n",
       "</td>\n",
       "<td>66</td>\n",
       "<td><sup class=\"reference\" id=\"cite_ref-Guinness_2-1\"><a href=\"#cite_note-Guinness-2\">[1]</a></sup></td>\n",
       "</tr>\n",
       "<tr style=\"background:#FFFFFF;\">\n",
       "<td><a href=\"/wiki/AC/DC\" title=\"AC/DC\">AC/DC</a></td>\n",
       "<td><i><a href=\"/wiki/Back_in_Black\" title=\"Back in Black\">Back in Black</a></i></td>\n",
       "<td>1980</td>\n",
       "<td><a href=\"/wiki/Hard_rock\" title=\"Hard rock\">Hard rock</a></td>\n",
       "<td><span class=\"sortkey\" style=\"display:none\">7001259000000000000♠</span>\n",
       "<div class=\"mw-collapsible mw-collapsed\" style=\"box-sizing:border-box;width:100%;font-size:95%;padding:4px;border:none;\">\n",
       "<div style=\"font-size:100%;line-height:1.6;font-weight:bold;background:transparent;text-align:center;;\">26.1</div>\n",
       "<div class=\"mw-collapsible-content\" style=\"background:transparent;text-align:left;;\">\n",
       "<ul>\n",
       "<li><a href=\"/wiki/Recording_Industry_Association_of_America\" title=\"Recording Industry Association of America\">US</a>: 22 million<sup class=\"reference\" id=\"cite_ref-RIAA_Certification_Database_5-1\"><a href=\"#cite_note-RIAA_Certification_Database-5\">[4]</a></sup></li>\n",
       "<li><a href=\"/wiki/British_Phonographic_Industry\" title=\"British Phonographic Industry\">UK</a>: 300,000<sup class=\"reference\" id=\"cite_ref-BPI_certifications_7-1\"><a href=\"#cite_note-BPI_certifications-7\">[6]</a></sup></li>\n",
       "<li><a href=\"/wiki/Bundesverband_Musikindustrie\" title=\"Bundesverband Musikindustrie\">GER</a>: 1 million<sup class=\"reference\" id=\"cite_ref-German_Certification_Database_8-1\"><a href=\"#cite_note-German_Certification_Database-8\">[7]</a></sup></li>\n",
       "<li><a href=\"/wiki/Syndicat_National_de_l%27%C3%89dition_Phonographique\" title=\"Syndicat National de l'Édition Phonographique\">FRA</a>: 600,000<sup class=\"reference\" id=\"cite_ref-InfoDisc_Les_Certifications_depuis_1973_(albums)_9-1\"><a href=\"#cite_note-InfoDisc_Les_Certifications_depuis_1973_(albums)-9\">[8]</a></sup></li>\n",
       "<li><a href=\"/wiki/Music_Canada\" title=\"Music Canada\">CAN</a>: 1 million<sup class=\"reference\" id=\"cite_ref-Canada_Music_Certification_Database_10-1\"><a href=\"#cite_note-Canada_Music_Certification_Database-10\">[9]</a></sup></li>\n",
       "<li><a href=\"/wiki/Australian_Recording_Industry_Association\" title=\"Australian Recording Industry Association\">AUS</a>: 840,000<sup class=\"reference\" id=\"cite_ref-Australian_Certifications_11-1\"><a href=\"#cite_note-Australian_Certifications-11\">[10]</a></sup></li>\n",
       "<li><a class=\"mw-redirect\" href=\"/wiki/Federation_of_the_Italian_Music_Industry\" title=\"Federation of the Italian Music Industry\">ITA</a>: 50,000<sup class=\"reference\" id=\"cite_ref-FIMI_Certification_Database_14-1\"><a href=\"#cite_note-FIMI_Certification_Database-14\">[13]</a></sup></li>\n",
       "<li><a href=\"/wiki/Argentine_Chamber_of_Phonograms_and_Videograms_Producers\" title=\"Argentine Chamber of Phonograms and Videograms Producers\">ARG</a>: 160,000<sup class=\"reference\" id=\"cite_ref-Archived_CAPIF_certifications_to_2010_23-0\"><a href=\"#cite_note-Archived_CAPIF_certifications_to_2010-23\">[22]</a></sup></li>\n",
       "<li><a href=\"/wiki/International_Federation_of_the_Phonographic_Industry\" title=\"International Federation of the Phonographic Industry\">SWI</a>: 100,000<sup class=\"reference\" id=\"cite_ref-Swiss_Certification_Database_17-1\"><a href=\"#cite_note-Swiss_Certification_Database-17\">[16]</a></sup></li>\n",
       "<li><a href=\"/wiki/International_Federation_of_the_Phonographic_Industry\" title=\"International Federation of the Phonographic Industry\">AUT</a>: 50,000<sup class=\"reference\" id=\"cite_ref-Austrian_Certifications_18-1\"><a href=\"#cite_note-Austrian_Certifications-18\">[17]</a></sup></li>\n",
       "</ul>\n",
       "</div>\n",
       "</div>\n",
       "</td>\n",
       "<td>50</td>\n",
       "<td><sup class=\"reference\" id=\"cite_ref-24\"><a href=\"#cite_note-24\">[23]</a></sup></td>\n",
       "</tr>\n",
       "<tr style=\"background:#FFFFFF;\">\n",
       "<td><a href=\"/wiki/Pink_Floyd\" title=\"Pink Floyd\">Pink Floyd</a></td>\n",
       "<td><i><a href=\"/wiki/The_Dark_Side_of_the_Moon\" title=\"The Dark Side of the Moon\">The Dark Side of the Moon</a></i></td>\n",
       "<td>1973</td>\n",
       "<td><a href=\"/wiki/Progressive_rock\" title=\"Progressive rock\">Progressive rock</a></td>\n",
       "<td><span class=\"sortkey\" style=\"display:none\">7001242100000000000♠</span>\n",
       "<div class=\"mw-collapsible mw-collapsed\" style=\"box-sizing:border-box;width:100%;font-size:95%;padding:4px;border:none;\">\n",
       "<div style=\"font-size:100%;line-height:1.6;font-weight:bold;background:transparent;text-align:center;;\">24.2</div>\n",
       "<div class=\"mw-collapsible-content\" style=\"background:transparent;text-align:left;;\">\n",
       "<ul>\n",
       "<li><a href=\"/wiki/Recording_Industry_Association_of_America\" title=\"Recording Industry Association of America\">US</a>: 15 million<sup class=\"reference\" id=\"cite_ref-RIAA_Certification_Database_5-2\"><a href=\"#cite_note-RIAA_Certification_Database-5\">[4]</a></sup></li>\n",
       "<li><a href=\"/wiki/British_Phonographic_Industry\" title=\"British Phonographic Industry\">UK</a>: 4.2 million<sup class=\"reference\" id=\"cite_ref-BPI_certifications_7-2\"><a href=\"#cite_note-BPI_certifications-7\">[6]</a></sup></li>\n",
       "<li><a href=\"/wiki/Bundesverband_Musikindustrie\" title=\"Bundesverband Musikindustrie\">GER</a>: 1 million<sup class=\"reference\" id=\"cite_ref-German_Certification_Database_8-2\"><a href=\"#cite_note-German_Certification_Database-8\">[7]</a></sup></li>\n",
       "<li><a href=\"/wiki/Syndicat_National_de_l%27%C3%89dition_Phonographique\" title=\"Syndicat National de l'Édition Phonographique\">FRA</a>: 400,000<sup class=\"reference\" id=\"cite_ref-InfoDisc_Les_Certifications_depuis_1973_(albums)_9-2\"><a href=\"#cite_note-InfoDisc_Les_Certifications_depuis_1973_(albums)-9\">[8]</a></sup></li>\n",
       "<li><a href=\"/wiki/Music_Canada\" title=\"Music Canada\">CAN</a>: 2 million<sup class=\"reference\" id=\"cite_ref-Canada_Music_Certification_Database_10-2\"><a href=\"#cite_note-Canada_Music_Certification_Database-10\">[9]</a></sup></li>\n",
       "<li><a href=\"/wiki/Australian_Recording_Industry_Association\" title=\"Australian Recording Industry Association\">AUS</a>: 980,000<sup class=\"reference\" id=\"cite_ref-Australian_Certifications_11-2\"><a href=\"#cite_note-Australian_Certifications-11\">[10]</a></sup></li>\n",
       "<li><a class=\"mw-redirect\" href=\"/wiki/Federation_of_the_Italian_Music_Industry\" title=\"Federation of the Italian Music Industry\">ITA</a>: 100,000<sup class=\"reference\" id=\"cite_ref-FIMI_Certification_Database_14-2\"><a href=\"#cite_note-FIMI_Certification_Database-14\">[13]</a></sup></li>\n",
       "<li><a href=\"/wiki/Argentine_Chamber_of_Phonograms_and_Videograms_Producers\" title=\"Argentine Chamber of Phonograms and Videograms Producers\">ARG</a>: 120,000<sup class=\"reference\" id=\"cite_ref-Archived_CAPIF_certifications_to_2010_23-1\"><a href=\"#cite_note-Archived_CAPIF_certifications_to_2010-23\">[22]</a></sup></li>\n",
       "<li><a href=\"/wiki/Polish_Music_Charts\" title=\"Polish Music Charts\">POL</a>: 70,000<sup class=\"reference\" id=\"cite_ref-Polish_certification_awards_1995-present_25-0\"><a href=\"#cite_note-Polish_certification_awards_1995-present-25\">[24]</a></sup></li>\n",
       "<li><a href=\"/wiki/International_Federation_of_the_Phonographic_Industry\" title=\"International Federation of the Phonographic Industry\">AUT</a>: 100,000<sup class=\"reference\" id=\"cite_ref-Austrian_Certifications_18-2\"><a href=\"#cite_note-Austrian_Certifications-18\">[17]</a></sup></li>\n",
       "<li><a class=\"mw-redirect\" href=\"/wiki/Recording_Industry_Association_of_New_Zealand\" title=\"Recording Industry Association of New Zealand\">NZ</a>: 240,000<sup class=\"reference\" id=\"cite_ref-Seven_Top_Certified_New_Zealand_Albums_2007_26-0\"><a href=\"#cite_note-Seven_Top_Certified_New_Zealand_Albums_2007-26\">[25]</a></sup></li>\n",
       "</ul>\n",
       "</div>\n",
       "</div>\n",
       "</td>\n",
       "<td>45</td>\n",
       "<td><sup class=\"reference\" id=\"cite_ref-27\"><a href=\"#cite_note-27\">[26]</a></sup></td>\n",
       "</tr>\n",
       "<tr style=\"background:#FFFFFF;\">\n",
       "<td><a href=\"/wiki/Meat_Loaf\" title=\"Meat Loaf\">Meat Loaf</a></td>\n",
       "<td><i><a href=\"/wiki/Bat_Out_of_Hell\" title=\"Bat Out of Hell\">Bat Out of Hell</a></i></td>\n",
       "<td>1977</td>\n",
       "<td><a href=\"/wiki/Hard_rock\" title=\"Hard rock\">Hard rock</a>, <a href=\"/wiki/Progressive_rock\" title=\"Progressive rock\">Progressive rock</a></td>\n",
       "<td><span class=\"sortkey\" style=\"display:none\">7001215050000000000♠</span>\n",
       "<div class=\"mw-collapsible mw-collapsed\" style=\"box-sizing:border-box;width:100%;font-size:95%;padding:4px;border:none;\">\n",
       "<div style=\"font-size:100%;line-height:1.6;font-weight:bold;background:transparent;text-align:center;;\">21.5</div>\n",
       "<div class=\"mw-collapsible-content\" style=\"background:transparent;text-align:left;;\">\n",
       "<ul>\n",
       "<li><a href=\"/wiki/Recording_Industry_Association_of_America\" title=\"Recording Industry Association of America\">US</a>: 14 million<sup class=\"reference\" id=\"cite_ref-RIAA_Certification_Database_5-3\"><a href=\"#cite_note-RIAA_Certification_Database-5\">[4]</a></sup></li>\n",
       "<li><a href=\"/wiki/British_Phonographic_Industry\" title=\"British Phonographic Industry\">UK</a>: 3 million<sup class=\"reference\" id=\"cite_ref-BPI_certifications_7-3\"><a href=\"#cite_note-BPI_certifications-7\">[6]</a></sup></li>\n",
       "<li><a href=\"/wiki/Bundesverband_Musikindustrie\" title=\"Bundesverband Musikindustrie\">GER</a>: 500,000<sup class=\"reference\" id=\"cite_ref-German_Certification_Database_8-3\"><a href=\"#cite_note-German_Certification_Database-8\">[7]</a></sup></li>\n",
       "<li><a href=\"/wiki/Music_Canada\" title=\"Music Canada\">CAN</a>: 2 million<sup class=\"reference\" id=\"cite_ref-Canada_Music_Certification_Database_10-3\"><a href=\"#cite_note-Canada_Music_Certification_Database-10\">[9]</a></sup></li>\n",
       "<li><a href=\"/wiki/Australian_Recording_Industry_Association\" title=\"Australian Recording Industry Association\">AUS</a>: 1.68 million<sup class=\"reference\" id=\"cite_ref-Australian_Certifications_11-3\"><a href=\"#cite_note-Australian_Certifications-11\">[10]</a></sup></li>\n",
       "<li><a class=\"mw-redirect\" href=\"/wiki/Recording_Industry_Association_of_New_Zealand\" title=\"Recording Industry Association of New Zealand\">NZ</a>: 255,000<sup class=\"reference\" id=\"cite_ref-Seven_Top_Certified_New_Zealand_Albums_2007_26-1\"><a href=\"#cite_note-Seven_Top_Certified_New_Zealand_Albums_2007-26\">[25]</a></sup></li>\n",
       "</ul>\n",
       "</div>\n",
       "</div>\n",
       "</td>\n",
       "<td>43</td>\n",
       "<td><sup class=\"reference\" id=\"cite_ref-28\"><a href=\"#cite_note-28\">[27]</a></sup></td>\n",
       "</tr>\n",
       "<tr style=\"background:#E6F2FF\">\n",
       "<td><a href=\"/wiki/Whitney_Houston\" title=\"Whitney Houston\">Whitney Houston</a> / Various artists</td>\n",
       "<td><i><a class=\"mw-redirect\" href=\"/wiki/The_Bodyguard:_Original_Soundtrack_Album\" title=\"The Bodyguard: Original Soundtrack Album\">The Bodyguard</a></i></td>\n",
       "<td>1992</td>\n",
       "<td><a href=\"/wiki/Contemporary_R%26B\" title=\"Contemporary R&amp;B\">R&amp;B</a>, <a href=\"/wiki/Soul_music\" title=\"Soul music\">Soul</a>, <a href=\"/wiki/Pop_music\" title=\"Pop music\">Pop</a>, <a href=\"/wiki/Soundtrack_album\" title=\"Soundtrack album\">Soundtrack</a></td>\n",
       "<td><span class=\"sortkey\" style=\"display:none\">7001273460000000000♠</span>\n",
       "<div class=\"mw-collapsible mw-collapsed\" style=\"box-sizing:border-box;width:100%;font-size:95%;padding:4px;border:none;\">\n",
       "<div style=\"font-size:100%;line-height:1.6;font-weight:bold;background:transparent;text-align:center;;\">28.4</div>\n",
       "<div class=\"mw-collapsible-content\" style=\"background:transparent;text-align:left;;\">\n",
       "<ul>\n",
       "<li><a href=\"/wiki/Recording_Industry_Association_of_America\" title=\"Recording Industry Association of America\">US</a>: 18 million<sup class=\"reference\" id=\"cite_ref-RIAA_Certification_Database_5-4\"><a href=\"#cite_note-RIAA_Certification_Database-5\">[4]</a></sup></li>\n",
       "<li><a href=\"/wiki/Recording_Industry_Association_of_Japan\" title=\"Recording Industry Association of Japan\">JPN</a>: 2 million<sup class=\"reference\" id=\"cite_ref-RIAJ_History_1990-1999_29-0\"><a href=\"#cite_note-RIAJ_History_1990-1999-29\">[28]</a></sup></li>\n",
       "<li><a href=\"/wiki/British_Phonographic_Industry\" title=\"British Phonographic Industry\">UK</a>: 2.1 million<sup class=\"reference\" id=\"cite_ref-BPI_certifications_7-4\"><a href=\"#cite_note-BPI_certifications-7\">[6]</a></sup></li>\n",
       "<li><a href=\"/wiki/Bundesverband_Musikindustrie\" title=\"Bundesverband Musikindustrie\">GER</a>: 1.5 million<sup class=\"reference\" id=\"cite_ref-German_Certification_Database_8-4\"><a href=\"#cite_note-German_Certification_Database-8\">[7]</a></sup></li>\n",
       "<li><a href=\"/wiki/Syndicat_National_de_l%27%C3%89dition_Phonographique\" title=\"Syndicat National de l'Édition Phonographique\">FRA</a>: 1 million<sup class=\"reference\" id=\"cite_ref-InfoDisc_Les_Certifications_depuis_1973_(albums)_9-3\"><a href=\"#cite_note-InfoDisc_Les_Certifications_depuis_1973_(albums)-9\">[8]</a></sup></li>\n",
       "<li><a href=\"/wiki/Music_Canada\" title=\"Music Canada\">CAN</a>: 1 million<sup class=\"reference\" id=\"cite_ref-Canada_Music_Certification_Database_10-4\"><a href=\"#cite_note-Canada_Music_Certification_Database-10\">[9]</a></sup></li>\n",
       "<li><a href=\"/wiki/Australian_Recording_Industry_Association\" title=\"Australian Recording Industry Association\">AUS</a>: 350,000<sup class=\"reference\" id=\"cite_ref-Australian_Certifications_11-4\"><a href=\"#cite_note-Australian_Certifications-11\">[10]</a></sup></li>\n",
       "<li><a class=\"mw-redirect\" href=\"/wiki/Associa%C3%A7%C3%A3o_Brasileira_dos_Produtores_de_Discos\" title=\"Associação Brasileira dos Produtores de Discos\">BRA</a>: 750,000<sup class=\"reference\" id=\"cite_ref-Brazil's_Certification_Database_30-0\"><a href=\"#cite_note-Brazil's_Certification_Database-30\">[29]</a></sup></li>\n",
       "<li><a href=\"/wiki/NVPI\" title=\"NVPI\">NLD</a>: 100,000<sup class=\"reference\" id=\"cite_ref-Dutch_Certifications_13-1\"><a href=\"#cite_note-Dutch_Certifications-13\">[12]</a></sup></li>\n",
       "<li><a href=\"/wiki/International_Federation_of_the_Phonographic_Industry\" title=\"International Federation of the Phonographic Industry\">SWE</a> 100,000<sup class=\"reference\" id=\"cite_ref-Swedish_Certifications_15-1\"><a href=\"#cite_note-Swedish_Certifications-15\">[14]</a></sup></li>\n",
       "<li><a href=\"/wiki/Productores_de_M%C3%BAsica_de_Espa%C3%B1a\" title=\"Productores de Música de España\">SPA</a>: 500,000<sup class=\"reference\" id=\"cite_ref-Spanish_Certifications_31-0\"><a href=\"#cite_note-Spanish_Certifications-31\">[30]</a></sup></li>\n",
       "<li><a href=\"/wiki/Argentine_Chamber_of_Phonograms_and_Videograms_Producers\" title=\"Argentine Chamber of Phonograms and Videograms Producers\">ARG</a>: 240,000<sup class=\"reference\" id=\"cite_ref-Archived_CAPIF_certifications_to_2010_23-2\"><a href=\"#cite_note-Archived_CAPIF_certifications_to_2010-23\">[22]</a></sup></li>\n",
       "<li><a href=\"/wiki/International_Federation_of_the_Phonographic_Industry\" title=\"International Federation of the Phonographic Industry\">SWI</a>: 250,000<sup class=\"reference\" id=\"cite_ref-Swiss_Certification_Database_17-2\"><a href=\"#cite_note-Swiss_Certification_Database-17\">[16]</a></sup></li>\n",
       "<li><a href=\"/wiki/International_Federation_of_the_Phonographic_Industry\" title=\"International Federation of the Phonographic Industry\">AUT</a>: 200,000<sup class=\"reference\" id=\"cite_ref-Austrian_Certifications_18-3\"><a href=\"#cite_note-Austrian_Certifications-18\">[17]</a></sup></li>\n",
       "<li><a class=\"mw-redirect\" href=\"/wiki/IFPI\" title=\"IFPI\">NOR</a>: 200,000<sup class=\"reference\" id=\"cite_ref-Norwegian_Certifications_32-0\"><a href=\"#cite_note-Norwegian_Certifications-32\">[31]</a></sup></li>\n",
       "<li><a href=\"/wiki/Musiikkituottajat_%E2%80%93_IFPI_Finland\" title=\"Musiikkituottajat – IFPI Finland\">FIN</a>: 92,500<sup class=\"reference\" id=\"cite_ref-Finnish_Certifications_Database_19-1\"><a href=\"#cite_note-Finnish_Certifications_Database-19\">[18]</a></sup></li>\n",
       "</ul>\n",
       "</div>\n",
       "</div>\n",
       "</td>\n",
       "<td>42</td>\n",
       "<td><sup class=\"reference\" id=\"cite_ref-33\"><a href=\"#cite_note-33\">[32]</a></sup></td>\n",
       "</tr>\n",
       "<tr style=\"background:#FFFAE6;\">\n",
       "<td><a href=\"/wiki/Eagles_(band)\" title=\"Eagles (band)\">Eagles</a></td>\n",
       "<td><i><a href=\"/wiki/Their_Greatest_Hits_(1971%E2%80%931975)\" title=\"Their Greatest Hits (1971–1975)\">Their Greatest Hits (1971–1975)</a></i></td>\n",
       "<td>1976</td>\n",
       "<td><a href=\"/wiki/Rock_music\" title=\"Rock music\">Rock</a>, <a href=\"/wiki/Soft_rock\" title=\"Soft rock\">Soft rock</a>, <a href=\"/wiki/Folk_rock\" title=\"Folk rock\">Folk rock</a></td>\n",
       "<td><span class=\"sortkey\" style=\"display:none\">7001321800000000000♠</span>\n",
       "<div class=\"mw-collapsible mw-collapsed\" style=\"box-sizing:border-box;width:100%;font-size:95%;padding:4px;border:none;\">\n",
       "<div style=\"font-size:100%;line-height:1.6;font-weight:bold;background:transparent;text-align:center;;\">32.2</div>\n",
       "<div class=\"mw-collapsible-content\" style=\"background:transparent;text-align:left;;\">\n",
       "<ul>\n",
       "<li><a href=\"/wiki/Recording_Industry_Association_of_America\" title=\"Recording Industry Association of America\">US</a>: 29 million<sup class=\"reference\" id=\"cite_ref-RIAA_Certification_Database_5-5\"><a href=\"#cite_note-RIAA_Certification_Database-5\">[4]</a></sup></li>\n",
       "<li><a href=\"/wiki/British_Phonographic_Industry\" title=\"British Phonographic Industry\">UK</a>: 600,000<sup class=\"reference\" id=\"cite_ref-BPI_certifications_7-5\"><a href=\"#cite_note-BPI_certifications-7\">[6]</a></sup></li>\n",
       "<li><a href=\"/wiki/Music_Canada\" title=\"Music Canada\">CAN</a>: 2 million<sup class=\"reference\" id=\"cite_ref-Canada_Music_Certification_Database_10-5\"><a href=\"#cite_note-Canada_Music_Certification_Database-10\">[9]</a></sup></li>\n",
       "<li><a href=\"/wiki/Australian_Recording_Industry_Association\" title=\"Australian Recording Industry Association\">AUS</a>: 560,000<sup class=\"reference\" id=\"cite_ref-Australian_Certifications_11-5\"><a href=\"#cite_note-Australian_Certifications-11\">[10]</a></sup></li>\n",
       "<li><a class=\"mw-redirect\" href=\"/wiki/IFPI\" title=\"IFPI\">IFPI HKG</a>: 15,000<sup class=\"reference\" id=\"cite_ref-Hong_Kong_Gold_Disc_Award_22-1\"><a href=\"#cite_note-Hong_Kong_Gold_Disc_Award-22\">[21]</a></sup></li>\n",
       "</ul>\n",
       "</div>\n",
       "</div>\n",
       "</td>\n",
       "<td>42</td>\n",
       "<td><sup class=\"reference\" id=\"cite_ref-34\"><a href=\"#cite_note-34\">[33]</a></sup><sup class=\"reference\" id=\"cite_ref-35\"><a href=\"#cite_note-35\">[34]</a></sup></td>\n",
       "</tr>\n",
       "<tr style=\"background:#E6F2FF\">\n",
       "<td><a href=\"/wiki/Bee_Gees\" title=\"Bee Gees\">Bee Gees</a> / Various artists</td>\n",
       "<td><i><a href=\"/wiki/Saturday_Night_Fever_(soundtrack)\" title=\"Saturday Night Fever (soundtrack)\">Saturday Night Fever</a></i></td>\n",
       "<td>1977</td>\n",
       "<td><a href=\"/wiki/Disco\" title=\"Disco\">Disco</a></td>\n",
       "<td><span class=\"sortkey\" style=\"display:none\">7001215700000000000♠</span>\n",
       "<div class=\"mw-collapsible mw-collapsed\" style=\"box-sizing:border-box;width:100%;font-size:95%;padding:4px;border:none;\">\n",
       "<div style=\"font-size:100%;line-height:1.6;font-weight:bold;background:transparent;text-align:center;;\">21.6</div>\n",
       "<div class=\"mw-collapsible-content\" style=\"background:transparent;text-align:left;;\">\n",
       "<ul>\n",
       "<li><a href=\"/wiki/Recording_Industry_Association_of_America\" title=\"Recording Industry Association of America\">US</a>: 16 million<sup class=\"reference\" id=\"cite_ref-RIAA_Certification_Database_5-6\"><a href=\"#cite_note-RIAA_Certification_Database-5\">[4]</a></sup></li>\n",
       "<li><a href=\"/wiki/British_Phonographic_Industry\" title=\"British Phonographic Industry\">UK</a>: 2.1 million<sup class=\"reference\" id=\"cite_ref-BPI_certifications_7-6\"><a href=\"#cite_note-BPI_certifications-7\">[6]</a></sup></li>\n",
       "<li><a href=\"/wiki/Bundesverband_Musikindustrie\" title=\"Bundesverband Musikindustrie\">GER</a>: 1.5 million<sup class=\"reference\" id=\"cite_ref-German_Certification_Database_8-5\"><a href=\"#cite_note-German_Certification_Database-8\">[7]</a></sup></li>\n",
       "<li><a href=\"/wiki/Syndicat_National_de_l%27%C3%89dition_Phonographique\" title=\"Syndicat National de l'Édition Phonographique\">FRA</a>: 200,000<sup class=\"reference\" id=\"cite_ref-InfoDisc_Les_Certifications_depuis_1973_(albums)_9-4\"><a href=\"#cite_note-InfoDisc_Les_Certifications_depuis_1973_(albums)-9\">[8]</a></sup></li>\n",
       "<li><a href=\"/wiki/Music_Canada\" title=\"Music Canada\">CAN</a>: 1 million<sup class=\"reference\" id=\"cite_ref-Canada_Music_Certification_Database_10-6\"><a href=\"#cite_note-Canada_Music_Certification_Database-10\">[9]</a></sup></li>\n",
       "<li><a href=\"/wiki/Australian_Recording_Industry_Association\" title=\"Australian Recording Industry Association\">AUS</a>: 770,000<sup class=\"reference\" id=\"cite_ref-36\"><a href=\"#cite_note-36\">[35]</a></sup></li>\n",
       "<li><a class=\"mw-redirect\" href=\"/wiki/IFPI\" title=\"IFPI\">HKG</a>: 15,000<sup class=\"reference\" id=\"cite_ref-Hong_Kong_Gold_Disc_Award_22-2\"><a href=\"#cite_note-Hong_Kong_Gold_Disc_Award-22\">[21]</a></sup></li>\n",
       "</ul>\n",
       "</div>\n",
       "</div>\n",
       "</td>\n",
       "<td>40</td>\n",
       "<td><sup class=\"reference\" id=\"cite_ref-37\"><a href=\"#cite_note-37\">[36]</a></sup><sup class=\"reference\" id=\"cite_ref-38\"><a href=\"#cite_note-38\">[37]</a></sup></td>\n",
       "</tr>\n",
       "<tr style=\"background:#FFFFFF;\">\n",
       "<td><a href=\"/wiki/Fleetwood_Mac\" title=\"Fleetwood Mac\">Fleetwood Mac</a></td>\n",
       "<td><i><a href=\"/wiki/Rumours_(album)\" title=\"Rumours (album)\">Rumours</a></i></td>\n",
       "<td>1977</td>\n",
       "<td><a href=\"/wiki/Soft_rock\" title=\"Soft rock\">Soft rock</a></td>\n",
       "<td><span class=\"sortkey\" style=\"display:none\">7001279300000000000♠</span>\n",
       "<div class=\"mw-collapsible mw-collapsed\" style=\"box-sizing:border-box;width:100%;font-size:95%;padding:4px;border:none;\">\n",
       "<div style=\"font-size:100%;line-height:1.6;font-weight:bold;background:transparent;text-align:center;;\">27.9</div>\n",
       "<div class=\"mw-collapsible-content\" style=\"background:transparent;text-align:left;;\">\n",
       "<ul>\n",
       "<li><a href=\"/wiki/Recording_Industry_Association_of_America\" title=\"Recording Industry Association of America\">US</a>: 20 million<sup class=\"reference\" id=\"cite_ref-RIAA_Certification_Database_5-7\"><a href=\"#cite_note-RIAA_Certification_Database-5\">[4]</a></sup></li>\n",
       "<li><a href=\"/wiki/British_Phonographic_Industry\" title=\"British Phonographic Industry\">UK</a>: 3.3 million<sup class=\"reference\" id=\"cite_ref-BPI_certifications_7-7\"><a href=\"#cite_note-BPI_certifications-7\">[6]</a></sup></li>\n",
       "<li><a href=\"/wiki/Bundesverband_Musikindustrie\" title=\"Bundesverband Musikindustrie\">GER</a>: 1.25 million<sup class=\"reference\" id=\"cite_ref-German_Certification_Database_8-6\"><a href=\"#cite_note-German_Certification_Database-8\">[7]</a></sup></li>\n",
       "<li><a href=\"/wiki/Syndicat_National_de_l%27%C3%89dition_Phonographique\" title=\"Syndicat National de l'Édition Phonographique\">FRA</a>: 300,000<sup class=\"reference\" id=\"cite_ref-Les_certifications_2011_39-0\"><a href=\"#cite_note-Les_certifications_2011-39\">[38]</a></sup></li>\n",
       "<li><a href=\"/wiki/Music_Canada\" title=\"Music Canada\">CAN</a>: 2 million<sup class=\"reference\" id=\"cite_ref-Canada_Music_Certification_Database_10-7\"><a href=\"#cite_note-Canada_Music_Certification_Database-10\">[9]</a></sup></li>\n",
       "<li><a href=\"/wiki/Australian_Recording_Industry_Association\" title=\"Australian Recording Industry Association\">AUS</a>: 910,000<sup class=\"reference\" id=\"cite_ref-Australian_Certifications_11-6\"><a href=\"#cite_note-Australian_Certifications-11\">[10]</a></sup></li>\n",
       "<li><a class=\"mw-redirect\" href=\"/wiki/Recording_Industry_Association_of_New_Zealand\" title=\"Recording Industry Association of New Zealand\">NZ</a>: 150,000<sup class=\"reference\" id=\"cite_ref-40\"><a href=\"#cite_note-40\">[39]</a></sup></li>\n",
       "<li><a class=\"mw-redirect\" href=\"/wiki/IFPI\" title=\"IFPI\">HKG</a>: 15,000<sup class=\"reference\" id=\"cite_ref-Hong_Kong_Gold_Disc_Award_22-3\"><a href=\"#cite_note-Hong_Kong_Gold_Disc_Award-22\">[21]</a></sup></li>\n",
       "</ul>\n",
       "</div>\n",
       "</div>\n",
       "</td>\n",
       "<td>40</td>\n",
       "<td><sup class=\"reference\" id=\"cite_ref-41\"><a href=\"#cite_note-41\">[40]</a></sup><sup class=\"reference\" id=\"cite_ref-42\"><a href=\"#cite_note-42\">[41]</a></sup></td>\n",
       "</tr>\n",
       "</table>"
      ]
     },
     "execution_count": 47,
     "metadata": {},
     "output_type": "execute_result"
    }
   ],
   "source": [
    "tables[1]"
   ]
  },
  {
   "cell_type": "markdown",
   "metadata": {},
   "source": [
    "This seems to be what we want. Let's store it in `table`."
   ]
  },
  {
   "cell_type": "code",
   "execution_count": 48,
   "metadata": {
    "collapsed": true
   },
   "outputs": [],
   "source": [
    "table = tables[1]"
   ]
  },
  {
   "cell_type": "markdown",
   "metadata": {},
   "source": [
    "Now, we need to get all the rows from the table. We can do this by using <code>find_all</code> with the elements which contain the rows, <code>tr</code>."
   ]
  },
  {
   "cell_type": "code",
   "execution_count": 49,
   "metadata": {
    "collapsed": true
   },
   "outputs": [],
   "source": [
    "rows = table.find_all(\"tr\")"
   ]
  },
  {
   "cell_type": "markdown",
   "metadata": {},
   "source": [
    "Now, remember that the first row of probably every table you'll encounter on the web are column names. Therefore, we need to treat the first column differently. Namely, we want to collect these names and save them for later.\n",
    "\n",
    "So we will <code>find_all</code> instances of <code>th</code> in the first row. From there, we will get the text from the cell using <code>.text</code>, which is a signal to the HTML element that we want the text within the cell. After that, we'll use the string methods <code>strip</code> and <code>replace</code> to clean up the text a little so they are proper column names. Then we'll add them to a list called <code>columns</code>."
   ]
  },
  {
   "cell_type": "code",
   "execution_count": 51,
   "metadata": {
    "collapsed": true
   },
   "outputs": [],
   "source": [
    "column_names = []\n",
    "header_cells = rows[0].find_all(\"th\") "
   ]
  },
  {
   "cell_type": "code",
   "execution_count": 52,
   "metadata": {},
   "outputs": [
    {
     "data": {
      "text/plain": [
       "[<th scope=\"col\">Artist</th>,\n",
       " <th scope=\"col\">Album</th>,\n",
       " <th scope=\"col\">Released</th>,\n",
       " <th scope=\"col\">Genre</th>,\n",
       " <th scope=\"col\"><a href=\"/wiki/Music_recording_sales_certification\" title=\"Music recording sales certification\">Total certified copies</a><br/>\n",
       " <small><span class=\"nowrap\">(<a href=\"/wiki/List_of_music_recording_certifications\" title=\"List of music recording certifications\">from available markets</a>)</span></small>*</th>,\n",
       " <th scope=\"col\">Claimed sales*</th>,\n",
       " <th class=\"unsortable\" scope=\"col\">Ref(s)</th>]"
      ]
     },
     "execution_count": 52,
     "metadata": {},
     "output_type": "execute_result"
    }
   ],
   "source": [
    "header_cells"
   ]
  },
  {
   "cell_type": "code",
   "execution_count": 53,
   "metadata": {
    "collapsed": true
   },
   "outputs": [],
   "source": [
    "for cell in header_cells:\n",
    "    header = cell.text\n",
    "    header = header.strip()\n",
    "    header = header.replace(\"\\n\", \" \")\n",
    "    column_names.append(header)"
   ]
  },
  {
   "cell_type": "code",
   "execution_count": 54,
   "metadata": {},
   "outputs": [
    {
     "data": {
      "text/plain": [
       "['Artist',\n",
       " 'Album',\n",
       " 'Released',\n",
       " 'Genre',\n",
       " 'Total certified copies (from available markets)*',\n",
       " 'Claimed sales*',\n",
       " 'Ref(s)']"
      ]
     },
     "execution_count": 54,
     "metadata": {},
     "output_type": "execute_result"
    }
   ],
   "source": [
    "column_names"
   ]
  },
  {
   "cell_type": "markdown",
   "metadata": {},
   "source": [
    "Now that we have the titles, we can collect the actual data from the file. We'll loop through all the rows, starting at the second one. Then we'll loop through all the cells in the row. To make this stuff all easy to find into <code>pandas</code>, we'll store the data from each row in a tuple. Remember tuples? "
   ]
  },
  {
   "cell_type": "markdown",
   "metadata": {},
   "source": [
    "Adding to a tuple is a little weird. You can only add a tuple to another tuple. So we'll begin by creating an empty tuple, then add to it by adding another tuple with one element in it."
   ]
  },
  {
   "cell_type": "code",
   "execution_count": 58,
   "metadata": {
    "collapsed": true
   },
   "outputs": [],
   "source": [
    "data = []\n",
    "for row in rows[1:]:\n",
    "    cells = row.find_all(\"td\")\n",
    "    \n",
    "    ## create an empty tuple\n",
    "    dt = ()\n",
    "    for cell in cells:\n",
    "        dp = cell.text\n",
    "\n",
    "        dp = dp.strip()\n",
    "        dp = dp.replace(\"\\n\", \" \")\n",
    "        \n",
    "        ## add to tuple\n",
    "        dt = dt + (dp,)\n",
    "    data.append(dt)"
   ]
  },
  {
   "cell_type": "markdown",
   "metadata": {},
   "source": [
    "Once we've done that, we can import this entire thing into <code>pandas</code> pretty easily."
   ]
  },
  {
   "cell_type": "code",
   "execution_count": 59,
   "metadata": {},
   "outputs": [],
   "source": [
    "import pandas as pd\n",
    "import numpy as np\n",
    "\n",
    "df = pd.DataFrame(data, columns = column_names)"
   ]
  },
  {
   "cell_type": "code",
   "execution_count": 60,
   "metadata": {},
   "outputs": [
    {
     "data": {
      "text/html": [
       "<div>\n",
       "<style>\n",
       "    .dataframe thead tr:only-child th {\n",
       "        text-align: right;\n",
       "    }\n",
       "\n",
       "    .dataframe thead th {\n",
       "        text-align: left;\n",
       "    }\n",
       "\n",
       "    .dataframe tbody tr th {\n",
       "        vertical-align: top;\n",
       "    }\n",
       "</style>\n",
       "<table border=\"1\" class=\"dataframe\">\n",
       "  <thead>\n",
       "    <tr style=\"text-align: right;\">\n",
       "      <th></th>\n",
       "      <th>Artist</th>\n",
       "      <th>Album</th>\n",
       "      <th>Released</th>\n",
       "      <th>Genre</th>\n",
       "      <th>Total certified copies (from available markets)*</th>\n",
       "      <th>Claimed sales*</th>\n",
       "      <th>Ref(s)</th>\n",
       "    </tr>\n",
       "  </thead>\n",
       "  <tbody>\n",
       "    <tr>\n",
       "      <th>0</th>\n",
       "      <td>Michael Jackson</td>\n",
       "      <td>Thriller</td>\n",
       "      <td>1982</td>\n",
       "      <td>Pop, Rock, R&amp;B</td>\n",
       "      <td>7001463190000000000♠  47.3   US: 33 million[4]...</td>\n",
       "      <td>66</td>\n",
       "      <td>[1]</td>\n",
       "    </tr>\n",
       "    <tr>\n",
       "      <th>1</th>\n",
       "      <td>AC/DC</td>\n",
       "      <td>Back in Black</td>\n",
       "      <td>1980</td>\n",
       "      <td>Hard rock</td>\n",
       "      <td>7001259000000000000♠  26.1   US: 22 million[4]...</td>\n",
       "      <td>50</td>\n",
       "      <td>[23]</td>\n",
       "    </tr>\n",
       "    <tr>\n",
       "      <th>2</th>\n",
       "      <td>Pink Floyd</td>\n",
       "      <td>The Dark Side of the Moon</td>\n",
       "      <td>1973</td>\n",
       "      <td>Progressive rock</td>\n",
       "      <td>7001242100000000000♠  24.2   US: 15 million[4]...</td>\n",
       "      <td>45</td>\n",
       "      <td>[26]</td>\n",
       "    </tr>\n",
       "    <tr>\n",
       "      <th>3</th>\n",
       "      <td>Meat Loaf</td>\n",
       "      <td>Bat Out of Hell</td>\n",
       "      <td>1977</td>\n",
       "      <td>Hard rock, Progressive rock</td>\n",
       "      <td>7001215050000000000♠  21.5   US: 14 million[4]...</td>\n",
       "      <td>43</td>\n",
       "      <td>[27]</td>\n",
       "    </tr>\n",
       "    <tr>\n",
       "      <th>4</th>\n",
       "      <td>Whitney Houston / Various artists</td>\n",
       "      <td>The Bodyguard</td>\n",
       "      <td>1992</td>\n",
       "      <td>R&amp;B, Soul, Pop, Soundtrack</td>\n",
       "      <td>7001273460000000000♠  28.4   US: 18 million[4]...</td>\n",
       "      <td>42</td>\n",
       "      <td>[32]</td>\n",
       "    </tr>\n",
       "    <tr>\n",
       "      <th>5</th>\n",
       "      <td>Eagles</td>\n",
       "      <td>Their Greatest Hits (1971–1975)</td>\n",
       "      <td>1976</td>\n",
       "      <td>Rock, Soft rock, Folk rock</td>\n",
       "      <td>7001321800000000000♠  32.2   US: 29 million[4]...</td>\n",
       "      <td>42</td>\n",
       "      <td>[33][34]</td>\n",
       "    </tr>\n",
       "    <tr>\n",
       "      <th>6</th>\n",
       "      <td>Bee Gees / Various artists</td>\n",
       "      <td>Saturday Night Fever</td>\n",
       "      <td>1977</td>\n",
       "      <td>Disco</td>\n",
       "      <td>7001215700000000000♠  21.6   US: 16 million[4]...</td>\n",
       "      <td>40</td>\n",
       "      <td>[36][37]</td>\n",
       "    </tr>\n",
       "    <tr>\n",
       "      <th>7</th>\n",
       "      <td>Fleetwood Mac</td>\n",
       "      <td>Rumours</td>\n",
       "      <td>1977</td>\n",
       "      <td>Soft rock</td>\n",
       "      <td>7001279300000000000♠  27.9   US: 20 million[4]...</td>\n",
       "      <td>40</td>\n",
       "      <td>[40][41]</td>\n",
       "    </tr>\n",
       "  </tbody>\n",
       "</table>\n",
       "</div>"
      ],
      "text/plain": [
       "                              Artist                            Album  \\\n",
       "0                    Michael Jackson                         Thriller   \n",
       "1                              AC/DC                    Back in Black   \n",
       "2                         Pink Floyd        The Dark Side of the Moon   \n",
       "3                          Meat Loaf                  Bat Out of Hell   \n",
       "4  Whitney Houston / Various artists                    The Bodyguard   \n",
       "5                             Eagles  Their Greatest Hits (1971–1975)   \n",
       "6         Bee Gees / Various artists             Saturday Night Fever   \n",
       "7                      Fleetwood Mac                          Rumours   \n",
       "\n",
       "  Released                        Genre  \\\n",
       "0     1982               Pop, Rock, R&B   \n",
       "1     1980                    Hard rock   \n",
       "2     1973             Progressive rock   \n",
       "3     1977  Hard rock, Progressive rock   \n",
       "4     1992   R&B, Soul, Pop, Soundtrack   \n",
       "5     1976   Rock, Soft rock, Folk rock   \n",
       "6     1977                        Disco   \n",
       "7     1977                    Soft rock   \n",
       "\n",
       "    Total certified copies (from available markets)* Claimed sales*    Ref(s)  \n",
       "0  7001463190000000000♠  47.3   US: 33 million[4]...             66       [1]  \n",
       "1  7001259000000000000♠  26.1   US: 22 million[4]...             50      [23]  \n",
       "2  7001242100000000000♠  24.2   US: 15 million[4]...             45      [26]  \n",
       "3  7001215050000000000♠  21.5   US: 14 million[4]...             43      [27]  \n",
       "4  7001273460000000000♠  28.4   US: 18 million[4]...             42      [32]  \n",
       "5  7001321800000000000♠  32.2   US: 29 million[4]...             42  [33][34]  \n",
       "6  7001215700000000000♠  21.6   US: 16 million[4]...             40  [36][37]  \n",
       "7  7001279300000000000♠  27.9   US: 20 million[4]...             40  [40][41]  "
      ]
     },
     "execution_count": 60,
     "metadata": {},
     "output_type": "execute_result"
    }
   ],
   "source": [
    "df"
   ]
  },
  {
   "cell_type": "markdown",
   "metadata": {},
   "source": [
    "And voilà, we have a dataframe from the table on the web.\n",
    "\n",
    "We need to massage the data a bit to do things like calculate means and generate graphs. The types of the columns are all <code>object</code>. Which means we have to do some conversions."
   ]
  },
  {
   "cell_type": "code",
   "execution_count": 62,
   "metadata": {},
   "outputs": [
    {
     "data": {
      "text/plain": [
       "Artist                                              object\n",
       "Album                                               object\n",
       "Released                                            object\n",
       "Genre                                               object\n",
       "Total certified copies (from available markets)*    object\n",
       "Claimed sales*                                       int64\n",
       "Ref(s)                                              object\n",
       "dtype: object"
      ]
     },
     "execution_count": 62,
     "metadata": {},
     "output_type": "execute_result"
    }
   ],
   "source": [
    "df.dtypes"
   ]
  },
  {
   "cell_type": "markdown",
   "metadata": {},
   "source": [
    "Say we want to look at Claimed Sales. We need to convert the number to an integer. Once that's done, we can take the mean."
   ]
  },
  {
   "cell_type": "code",
   "execution_count": 61,
   "metadata": {},
   "outputs": [
    {
     "data": {
      "text/plain": [
       "46.0"
      ]
     },
     "execution_count": 61,
     "metadata": {},
     "output_type": "execute_result"
    }
   ],
   "source": [
    "df['Claimed sales*'] = df['Claimed sales*'].astype(np.int64)\n",
    "df['Claimed sales*'].mean()"
   ]
  },
  {
   "cell_type": "markdown",
   "metadata": {},
   "source": [
    "We can also do some basic categorical stats on things like Year Released."
   ]
  },
  {
   "cell_type": "code",
   "execution_count": 63,
   "metadata": {},
   "outputs": [
    {
     "data": {
      "text/plain": [
       "1977    3\n",
       "1992    1\n",
       "1980    1\n",
       "1976    1\n",
       "1973    1\n",
       "1982    1\n",
       "Name: Released, dtype: int64"
      ]
     },
     "execution_count": 63,
     "metadata": {},
     "output_type": "execute_result"
    }
   ],
   "source": [
    "df['Released'].value_counts()"
   ]
  },
  {
   "cell_type": "markdown",
   "metadata": {},
   "source": [
    "1977 was a hot year for music sales. "
   ]
  },
  {
   "cell_type": "markdown",
   "metadata": {},
   "source": [
    "## Exercise 1\n",
    "\n",
    "Head to the [Wikipedia page for Academy Award for Best Picture](\n",
    "https://en.wikipedia.org/wiki/Academy_Award_for_Best_Picture). Complete this code to collect the data for the 2017 nominees."
   ]
  },
  {
   "cell_type": "code",
   "execution_count": null,
   "metadata": {
    "collapsed": true
   },
   "outputs": [],
   "source": [
    "url  = \"https://en.wikipedia.org/wiki/Academy_Award_for_Best_Picture\"\n",
    "res  = urllib.request.urlopen(url)\n",
    "html = res.read()"
   ]
  },
  {
   "cell_type": "code",
   "execution_count": null,
   "metadata": {
    "collapsed": true
   },
   "outputs": [],
   "source": [
    "bs = ______(html, \"html.parser\")"
   ]
  },
  {
   "cell_type": "code",
   "execution_count": null,
   "metadata": {
    "collapsed": true
   },
   "outputs": [],
   "source": [
    "tables = bs.find_all(______, _______)\n",
    "table  = tables[-1]"
   ]
  },
  {
   "cell_type": "code",
   "execution_count": null,
   "metadata": {
    "collapsed": true
   },
   "outputs": [],
   "source": [
    "rows = table.find_all(___)"
   ]
  },
  {
   "cell_type": "code",
   "execution_count": null,
   "metadata": {
    "collapsed": true
   },
   "outputs": [],
   "source": [
    "column_names = []\n",
    "header_cells = rows[0].find_all(____) \n",
    "for cell in header_cells:\n",
    "    th = cell.text\n",
    "    th = th.strip()\n",
    "    _______.append(th)"
   ]
  },
  {
   "cell_type": "code",
   "execution_count": null,
   "metadata": {
    "collapsed": true
   },
   "outputs": [],
   "source": [
    "data = []\n",
    "for row in rows[1:]:\n",
    "    dt = ()\n",
    "    cells = row.find_all(____)\n",
    "    for cell in ____:\n",
    "        dp = cell.____\n",
    "        dp = dp.strip()\n",
    "        \n",
    "        dt = dt + (_____)\n",
    "    data.append(dt)"
   ]
  },
  {
   "cell_type": "code",
   "execution_count": null,
   "metadata": {
    "collapsed": true
   },
   "outputs": [],
   "source": [
    "df = pd.DataFrame(data, columns = ______)"
   ]
  },
  {
   "cell_type": "markdown",
   "metadata": {},
   "source": [
    "### Screen scraping in unstructured format\n",
    "\n",
    "Much of the data we'll want to collect will be in a table format. But much of the time, what we want won't be in a table format. There's been a bit of turn away from using tables in web development in the past 10-15 years. Because of that, we will need to dig a little more into the guts of the HTML to extract what we want."
   ]
  },
  {
   "cell_type": "markdown",
   "metadata": {},
   "source": [
    "Let's say we're pricing out hockey helmets for ourselves or our relatives for the holidays (many roller derby players actually do wear hockey helmets). We could check out a popular hockey website to see what kinds of helmets are available."
   ]
  },
  {
   "cell_type": "markdown",
   "metadata": {},
   "source": [
    "We start off like we did with the table. But here, we try to find the unit which contains each unit we want to collect data on. In this case, it looks like each helmet is in a <code>&lt;li&gt;</code> (or list) element. For the record, the elements we're typically looking for are containers which can hold other elements, which include <code>li, p, div, span,</code> and any of the header elements -- <code>h1, h2, h3, h4, h5, h6</code>."
   ]
  },
  {
   "cell_type": "markdown",
   "metadata": {},
   "source": [
    "We also see that each of these elements has the class <code>item</code>. So it seems like a good guess that if we get all the list items, then we'll be on the right track."
   ]
  },
  {
   "cell_type": "markdown",
   "metadata": {},
   "source": [
    "![](img/hockey-site.png)"
   ]
  },
  {
   "cell_type": "code",
   "execution_count": null,
   "metadata": {
    "collapsed": true
   },
   "outputs": [],
   "source": [
    "url = \"http://www.hockeymonkey.com/equipment/helmets/helmets.html\"\n",
    "res = urllib.request.urlopen(url)\n",
    "\n",
    "html = res.read()\n",
    "\n",
    "bs = BeautifulSoup(html, \"html.parser\")"
   ]
  },
  {
   "cell_type": "code",
   "execution_count": null,
   "metadata": {
    "collapsed": true
   },
   "outputs": [],
   "source": [
    "items = bs.find_all(\"li\", \"item\")"
   ]
  },
  {
   "cell_type": "code",
   "execution_count": null,
   "metadata": {
    "collapsed": true
   },
   "outputs": [],
   "source": [
    "items[0]"
   ]
  },
  {
   "cell_type": "markdown",
   "metadata": {},
   "source": [
    "From there, we have to find how to get the helmet name and the price. Upon further inspect, it looks like the element which contains name is an <code>h2</code> element with class <code>product-name</code>. Price is conained in a <code>span</code> element with class <code>price</code>."
   ]
  },
  {
   "cell_type": "markdown",
   "metadata": {},
   "source": [
    "![](img/hockey-name.png)"
   ]
  },
  {
   "cell_type": "markdown",
   "metadata": {},
   "source": [
    "![](img/hockey-price.png)"
   ]
  },
  {
   "cell_type": "markdown",
   "metadata": {},
   "source": [
    "From there, we can loop through all the items in the list and store the name and price in their own variables."
   ]
  },
  {
   "cell_type": "code",
   "execution_count": null,
   "metadata": {
    "collapsed": true
   },
   "outputs": [],
   "source": [
    "data = []\n",
    "for item in items:\n",
    "    name = item.find(\"h2\", \"product-name\")\n",
    "    name = name.text\n",
    "    \n",
    "    price = item.find(\"span\", \"price\")\n",
    "    price = price.text\n",
    "    \n",
    "    dt = (name, price)\n",
    "    data.append(dt)"
   ]
  },
  {
   "cell_type": "code",
   "execution_count": null,
   "metadata": {
    "collapsed": true
   },
   "outputs": [],
   "source": [
    "data"
   ]
  },
  {
   "cell_type": "markdown",
   "metadata": {},
   "source": [
    "And from there, we can store all these data into a DataFrame again."
   ]
  },
  {
   "cell_type": "code",
   "execution_count": null,
   "metadata": {
    "collapsed": true
   },
   "outputs": [],
   "source": [
    "df = pd.DataFrame(data, columns = ['Name', 'Price'])"
   ]
  },
  {
   "cell_type": "code",
   "execution_count": null,
   "metadata": {
    "collapsed": true
   },
   "outputs": [],
   "source": [
    "df"
   ]
  },
  {
   "cell_type": "markdown",
   "metadata": {},
   "source": [
    "Like the transformation above, we can convert the price to a float and take the mean, once we remove the dollar sign from the text."
   ]
  },
  {
   "cell_type": "code",
   "execution_count": null,
   "metadata": {
    "collapsed": true
   },
   "outputs": [],
   "source": [
    "df['Price'] = df['Price'].str.replace('$', '')\n",
    "df['Price'] = df['Price'].astype(np.float64)\n",
    "df['Price'].mean()"
   ]
  },
  {
   "cell_type": "markdown",
   "metadata": {},
   "source": [
    "## Exercise 2\n",
    "\n",
    "Look at this [name website](http://www.behindthename.com/names/usage/english). Collect the name, the gender, and the linguistic origin. Complete the following code."
   ]
  },
  {
   "cell_type": "code",
   "execution_count": null,
   "metadata": {
    "collapsed": true
   },
   "outputs": [],
   "source": [
    "url = _____\n",
    "res = _____"
   ]
  },
  {
   "cell_type": "code",
   "execution_count": null,
   "metadata": {
    "collapsed": true
   },
   "outputs": [],
   "source": [
    "html = _____"
   ]
  },
  {
   "cell_type": "code",
   "execution_count": null,
   "metadata": {
    "collapsed": true
   },
   "outputs": [],
   "source": [
    "bs = BeautifulSoup(html, \"html.parser\")"
   ]
  },
  {
   "cell_type": "code",
   "execution_count": null,
   "metadata": {
    "collapsed": true
   },
   "outputs": [],
   "source": [
    "items = bs.find_all(_____, _________)"
   ]
  },
  {
   "cell_type": "code",
   "execution_count": null,
   "metadata": {
    "collapsed": true
   },
   "outputs": [],
   "source": [
    "data = []\n",
    "for ____ in items:\n",
    "    name = item.find(_____)\n",
    "    name = name.text\n",
    "    \n",
    "    masc = item.find(_____, 'masc')\n",
    "    fem  = item.find(_____, 'fem')\n",
    "    \n",
    "    gender = ''\n",
    "    if masc is not None:\n",
    "        gender = 'm'\n",
    "    \n",
    "    if fem is not None:\n",
    "        gender = 'f'\n",
    "    \n",
    "    if masc is not None and fem is not None:\n",
    "        gender = 'm & f'\n",
    "        \n",
    "    infos = item._____(_____, _____)\n",
    "    origin = infos[-1]\n",
    "    origin = origin.text\n",
    "    \n",
    "    dt = (name, gender, origin)\n",
    "    data.append(dt)"
   ]
  },
  {
   "cell_type": "code",
   "execution_count": null,
   "metadata": {
    "collapsed": true
   },
   "outputs": [],
   "source": [
    "df_names = pd.DataFrame(data, columns = ['name', 'gender', 'origin'])"
   ]
  },
  {
   "cell_type": "markdown",
   "metadata": {},
   "source": [
    "## APIs\n",
    "\n",
    "APIs, or Application Programming Interfaces, are a method of accessing data from a business or government organization. Many, if not most, social media companies have some kind of API which are made available to third-party developers and researchers. Some of these work better for researchers than others."
   ]
  },
  {
   "cell_type": "markdown",
   "metadata": {},
   "source": [
    "You can think of an API request as what happens when you access a website with a web browser. You type in the URL for a page or click a link, and then the internet gives you want you want. Something similar happens when you make an API request. You are accessing a particular URL which will return a set of requested infomation."
   ]
  },
  {
   "cell_type": "markdown",
   "metadata": {},
   "source": [
    "In the examples which are working with in this lab, the information is returned in JSON, or **J**ava**S**cript **O**bject **N**otation. This is usually pronounced like \"JAY-SAAN\". JSON is structured a lot like Python objects, with dictionaries and lists being the main objects. For instance, a tweet is sort of structured like this:"
   ]
  },
  {
   "cell_type": "code",
   "execution_count": null,
   "metadata": {
    "collapsed": true
   },
   "outputs": [],
   "source": [
    "tweet_json = \"\"\"\n",
    "{\n",
    "    \"id\": 12345,\n",
    "    \"created_at\": \"2016-11-01\",\n",
    "    \"text\": \"I am really into #python programming. #winning\",\n",
    "    \"user\": {\n",
    "        \"id\": 2345,\n",
    "        \"screen_name\": \"alexhanna\",\n",
    "        \"name\": \"Alex Hanna\"\n",
    "    },\n",
    "    \"entities\": {\n",
    "        \"hashtags\": [\n",
    "            {\n",
    "                \"name\": \"#python\"\n",
    "            },\n",
    "            {\n",
    "                \"name\": \"#winning\"\n",
    "            }\n",
    "        ]\n",
    "    }\n",
    "}\"\"\""
   ]
  },
  {
   "cell_type": "markdown",
   "metadata": {},
   "source": [
    "To parse it into something Python can use, we use the <code>json</code> module. Once there, we can access parts of it like a dictionary."
   ]
  },
  {
   "cell_type": "code",
   "execution_count": null,
   "metadata": {
    "collapsed": true
   },
   "outputs": [],
   "source": [
    "import json\n",
    "tweet_obj = json.loads(tweet_json)"
   ]
  },
  {
   "cell_type": "code",
   "execution_count": null,
   "metadata": {
    "collapsed": true
   },
   "outputs": [],
   "source": [
    "print(tweet_obj['text'])\n",
    "print(tweet_obj['user']['name'])\n",
    "for ht in tweet_obj['entities']['hashtags']:\n",
    "    print(ht['name'])"
   ]
  },
  {
   "cell_type": "markdown",
   "metadata": {},
   "source": [
    "## Accessing the Twitter API through <code>tweepy</code>\n",
    "\n",
    "First we need install a package called <code>tweepy</code>. Instead of handling all the URL requests by hand, <code>tweepy</code> does this all behind the scenes. We install a new package through Jupyter Notebook like so. This has the effect of running this same command on the Windows, Mac, or UNIX command-line."
   ]
  },
  {
   "cell_type": "code",
   "execution_count": null,
   "metadata": {
    "collapsed": true
   },
   "outputs": [],
   "source": [
    "!pip install tweepy"
   ]
  },
  {
   "cell_type": "markdown",
   "metadata": {},
   "source": [
    "After that, we need to load the newly installed <code>tweepy</code> module into our library path. The path is where Python looks for new libraries. Because we don't have permission to permanently install new packages, we can tell Python to look in the packages folder where we told it to put the new module."
   ]
  },
  {
   "cell_type": "code",
   "execution_count": null,
   "metadata": {
    "collapsed": true
   },
   "outputs": [],
   "source": [
    "import os\n",
    "import sys\n",
    "path = '/packages/Lib/site-packages'\n",
    "## If you are running this on Mac, comment out the previous line \n",
    "## and uncomment the line below\n",
    "#path = '/packages/lib/python3.5/site-packages'\n",
    "sys.path.insert(0, os.getcwd() + path)"
   ]
  },
  {
   "cell_type": "code",
   "execution_count": null,
   "metadata": {
    "collapsed": true
   },
   "outputs": [],
   "source": [
    "from slistener import SListener\n",
    "import json\n",
    "import time\n",
    "import tweepy\n",
    "import sys"
   ]
  },
  {
   "cell_type": "code",
   "execution_count": null,
   "metadata": {
    "collapsed": true
   },
   "outputs": [],
   "source": [
    "## authentication\n",
    "access_token = \"\"\n",
    "access_token_secret = \"\"\n",
    "consumer_key = \"\"\n",
    "consumer_secret = \"\"\n",
    "\n",
    "auth = tweepy.OAuthHandler(consumer_key, consumer_secret)\n",
    "auth.set_access_token(access_token, access_token_secret)\n",
    "api  = tweepy.API(auth)"
   ]
  },
  {
   "cell_type": "markdown",
   "metadata": {},
   "source": [
    "After that, we can start tracking things from Twitter's stream. This is only a small sample of possible things we can get from Twitter. To get full access, you need to pay a company to get historical data."
   ]
  },
  {
   "cell_type": "markdown",
   "metadata": {},
   "source": [
    "For now, we'll pick some fairly obvious keywords which will be on Twitter which related to US politics. There's other [things we can track](https://dev.twitter.com/streaming/reference/post/statuses/filter) here, but for now we'll just track keywords."
   ]
  },
  {
   "cell_type": "code",
   "execution_count": null,
   "metadata": {
    "collapsed": true
   },
   "outputs": [],
   "source": [
    "## set up words to track\n",
    "track = ['trump']\n",
    "\n",
    "listen = SListener(api, 'politics')\n",
    "stream = tweepy.Stream(auth, listen)\n",
    "\n",
    "print(\"Streaming started...\")\n",
    "\n",
    "stream.filter(track = track)"
   ]
  },
  {
   "cell_type": "markdown",
   "metadata": {},
   "source": [
    "Finally, we want to convert this all to a DataFrame. The problem is that with the nested structure of a tweet, it's kind of difficult to put it in a rectangular format. For that, we'll do a little bit of \"flattening\" of the data. This entails going through all the files, then going through all the tweets in those files and putting them into a column at the top level of the nested structure. In particular, let's get the screen names of users, the text and users of retweets, and the text and users of quoted tweets."
   ]
  },
  {
   "cell_type": "code",
   "execution_count": null,
   "metadata": {
    "collapsed": true
   },
   "outputs": [],
   "source": [
    "import glob\n",
    "import pandas as pd\n",
    "import numpy as np"
   ]
  },
  {
   "cell_type": "code",
   "execution_count": null,
   "metadata": {
    "collapsed": true
   },
   "outputs": [],
   "source": [
    "tweets = []\n",
    "files  = list(glob.iglob('uspolitics*.json'))\n",
    "for f in files:\n",
    "    fh = open(f, 'r', encoding = 'utf-8')\n",
    "    tweets_json = fh.read().split(\"\\n\")\n",
    "\n",
    "    ## remove empty lines\n",
    "    tweets_json = list(filter(len, tweets_json))\n",
    "\n",
    "    ## parse each tweet\n",
    "    for tweet in tweets_json:\n",
    "        try:\n",
    "            tweet_obj = json.loads(tweet)\n",
    "\n",
    "            ## flatten the file to include quoted status and retweeted status info\n",
    "            if 'quoted_status' in tweet_obj:\n",
    "                tweet_obj['quoted_status-text'] = tweet_obj['quoted_status']['text'] \n",
    "                tweet_obj['quoted_status-user-screen_name'] = tweet_obj['quoted_status']['user']['screen_name']\n",
    "\n",
    "            if 'retweeted_status' in tweet_obj:\n",
    "                tweet_obj['retweeted_status-user-screen_name'] = tweet_obj['retweeted_status']['user']['screen_name']\n",
    "                tweet_obj['retweeted_status-text'] = tweet_obj['retweeted_status']['text']\n",
    "\n",
    "            tweet_obj['user-screen_name'] = tweet_obj['user']['screen_name']\n",
    "\n",
    "            tweets.append(tweet_obj)\n",
    "        except:\n",
    "            pass"
   ]
  },
  {
   "cell_type": "code",
   "execution_count": null,
   "metadata": {
    "collapsed": true
   },
   "outputs": [],
   "source": [
    "## create pandas DataFrame for further analysis\n",
    "df_tweet = pd.DataFrame(tweets)"
   ]
  }
 ],
 "metadata": {
  "anaconda-cloud": {},
  "kernelspec": {
   "display_name": "Python 3",
   "language": "python",
   "name": "python3"
  }
 },
 "nbformat": 4,
 "nbformat_minor": 1
}
